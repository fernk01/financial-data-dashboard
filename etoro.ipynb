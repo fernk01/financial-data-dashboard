{
 "cells": [
  {
   "cell_type": "code",
   "execution_count": 50,
   "metadata": {},
   "outputs": [],
   "source": [
    "# Datos\n",
    "import numpy as np\n",
    "import pandas as pd\n",
    "\n",
    "import seaborn as sns\n",
    "import matplotlib.pyplot as plt"
   ]
  },
  {
   "cell_type": "code",
   "execution_count": 51,
   "metadata": {},
   "outputs": [],
   "source": [
    "df = pd.read_excel(\"etoro/fer-etoro-account-statement-1-1-2018-12-7-2023.xlsx\", index_col=0)"
   ]
  },
  {
   "cell_type": "code",
   "execution_count": 52,
   "metadata": {},
   "outputs": [],
   "source": [
    "# Cargamos la hoja 2 del excel\n",
    "cerradas = pd.read_excel(\"etoro/fer-etoro-account-statement-1-1-2018-12-7-2023.xlsx\", sheet_name=1, index_col=0)"
   ]
  },
  {
   "cell_type": "code",
   "execution_count": 53,
   "metadata": {},
   "outputs": [
    {
     "data": {
      "text/html": [
       "<div>\n",
       "<style scoped>\n",
       "    .dataframe tbody tr th:only-of-type {\n",
       "        vertical-align: middle;\n",
       "    }\n",
       "\n",
       "    .dataframe tbody tr th {\n",
       "        vertical-align: top;\n",
       "    }\n",
       "\n",
       "    .dataframe thead th {\n",
       "        text-align: right;\n",
       "    }\n",
       "</style>\n",
       "<table border=\"1\" class=\"dataframe\">\n",
       "  <thead>\n",
       "    <tr style=\"text-align: right;\">\n",
       "      <th></th>\n",
       "      <th>Acción</th>\n",
       "      <th>Importe</th>\n",
       "      <th>Unidades</th>\n",
       "      <th>Fecha de apertura</th>\n",
       "      <th>Fecha de cierre</th>\n",
       "      <th>Apalancamiento</th>\n",
       "      <th>Diferencial</th>\n",
       "      <th>Ganancias (USD)</th>\n",
       "      <th>Tasa de apertura</th>\n",
       "      <th>Tasa de cierre</th>\n",
       "      <th>Tasa de «take profit»</th>\n",
       "      <th>Tasa de «stop loss»</th>\n",
       "      <th>Comisiones por renovación de posiciones y dividendos</th>\n",
       "      <th>Copiado desde</th>\n",
       "      <th>Tipo</th>\n",
       "      <th>ISIN</th>\n",
       "      <th>Notas</th>\n",
       "    </tr>\n",
       "    <tr>\n",
       "      <th>ID de posición</th>\n",
       "      <th></th>\n",
       "      <th></th>\n",
       "      <th></th>\n",
       "      <th></th>\n",
       "      <th></th>\n",
       "      <th></th>\n",
       "      <th></th>\n",
       "      <th></th>\n",
       "      <th></th>\n",
       "      <th></th>\n",
       "      <th></th>\n",
       "      <th></th>\n",
       "      <th></th>\n",
       "      <th></th>\n",
       "      <th></th>\n",
       "      <th></th>\n",
       "      <th></th>\n",
       "    </tr>\n",
       "  </thead>\n",
       "  <tbody>\n",
       "    <tr>\n",
       "      <th>2518785220</th>\n",
       "      <td>Comprar Alphabet Inc Class A</td>\n",
       "      <td>10.0</td>\n",
       "      <td>0.072385</td>\n",
       "      <td>18/09/2023 13:36:32</td>\n",
       "      <td>07/12/2023 15:09:28</td>\n",
       "      <td>1</td>\n",
       "      <td>0.00</td>\n",
       "      <td>-0.13</td>\n",
       "      <td>138.15</td>\n",
       "      <td>136.40</td>\n",
       "      <td>1519.21</td>\n",
       "      <td>136.40</td>\n",
       "      <td>0.00</td>\n",
       "      <td>-</td>\n",
       "      <td>Acciones</td>\n",
       "      <td>US02079K3059</td>\n",
       "      <td>NaN</td>\n",
       "    </tr>\n",
       "    <tr>\n",
       "      <th>2516905847</th>\n",
       "      <td>Comprar Alphabet Inc Class A</td>\n",
       "      <td>10.0</td>\n",
       "      <td>0.074145</td>\n",
       "      <td>13/09/2023 13:30:06</td>\n",
       "      <td>07/12/2023 15:09:28</td>\n",
       "      <td>1</td>\n",
       "      <td>0.00</td>\n",
       "      <td>0.11</td>\n",
       "      <td>134.87</td>\n",
       "      <td>136.40</td>\n",
       "      <td>1483.58</td>\n",
       "      <td>136.40</td>\n",
       "      <td>0.00</td>\n",
       "      <td>-</td>\n",
       "      <td>Acciones</td>\n",
       "      <td>US02079K3059</td>\n",
       "      <td>NaN</td>\n",
       "    </tr>\n",
       "    <tr>\n",
       "      <th>2567019125</th>\n",
       "      <td>Comprar Alphabet Inc Class A</td>\n",
       "      <td>10.0</td>\n",
       "      <td>0.373495</td>\n",
       "      <td>30/11/2023 15:02:22</td>\n",
       "      <td>07/12/2023 15:01:38</td>\n",
       "      <td>5</td>\n",
       "      <td>0.15</td>\n",
       "      <td>0.94</td>\n",
       "      <td>133.87</td>\n",
       "      <td>136.39</td>\n",
       "      <td>401.61</td>\n",
       "      <td>136.40</td>\n",
       "      <td>-0.13</td>\n",
       "      <td>-</td>\n",
       "      <td>CFD</td>\n",
       "      <td>NaN</td>\n",
       "      <td>NaN</td>\n",
       "    </tr>\n",
       "    <tr>\n",
       "      <th>2565094201</th>\n",
       "      <td>Comprar Johnson &amp; Johnson</td>\n",
       "      <td>10.0</td>\n",
       "      <td>0.065876</td>\n",
       "      <td>27/11/2023 14:56:44</td>\n",
       "      <td>06/12/2023 14:32:26</td>\n",
       "      <td>1</td>\n",
       "      <td>0.00</td>\n",
       "      <td>0.42</td>\n",
       "      <td>151.80</td>\n",
       "      <td>158.15</td>\n",
       "      <td>0.00</td>\n",
       "      <td>158.19</td>\n",
       "      <td>0.00</td>\n",
       "      <td>-</td>\n",
       "      <td>Acciones</td>\n",
       "      <td>US4781601046</td>\n",
       "      <td>NaN</td>\n",
       "    </tr>\n",
       "    <tr>\n",
       "      <th>2518199610</th>\n",
       "      <td>Comprar Cisco Systems Inc</td>\n",
       "      <td>10.0</td>\n",
       "      <td>0.178603</td>\n",
       "      <td>15/09/2023 14:36:55</td>\n",
       "      <td>04/12/2023 14:33:14</td>\n",
       "      <td>1</td>\n",
       "      <td>0.00</td>\n",
       "      <td>-1.46</td>\n",
       "      <td>55.99</td>\n",
       "      <td>47.80</td>\n",
       "      <td>615.89</td>\n",
       "      <td>47.80</td>\n",
       "      <td>0.05</td>\n",
       "      <td>-</td>\n",
       "      <td>Acciones</td>\n",
       "      <td>US17275R1023</td>\n",
       "      <td>NaN</td>\n",
       "    </tr>\n",
       "  </tbody>\n",
       "</table>\n",
       "</div>"
      ],
      "text/plain": [
       "                                      Acción  Importe  Unidades  \\\n",
       "ID de posición                                                    \n",
       "2518785220      Comprar Alphabet Inc Class A     10.0  0.072385   \n",
       "2516905847      Comprar Alphabet Inc Class A     10.0  0.074145   \n",
       "2567019125      Comprar Alphabet Inc Class A     10.0  0.373495   \n",
       "2565094201         Comprar Johnson & Johnson     10.0  0.065876   \n",
       "2518199610         Comprar Cisco Systems Inc     10.0  0.178603   \n",
       "\n",
       "                  Fecha de apertura      Fecha de cierre  Apalancamiento  \\\n",
       "ID de posición                                                             \n",
       "2518785220      18/09/2023 13:36:32  07/12/2023 15:09:28               1   \n",
       "2516905847      13/09/2023 13:30:06  07/12/2023 15:09:28               1   \n",
       "2567019125      30/11/2023 15:02:22  07/12/2023 15:01:38               5   \n",
       "2565094201      27/11/2023 14:56:44  06/12/2023 14:32:26               1   \n",
       "2518199610      15/09/2023 14:36:55  04/12/2023 14:33:14               1   \n",
       "\n",
       "                Diferencial  Ganancias (USD)  Tasa de apertura  \\\n",
       "ID de posición                                                   \n",
       "2518785220             0.00            -0.13            138.15   \n",
       "2516905847             0.00             0.11            134.87   \n",
       "2567019125             0.15             0.94            133.87   \n",
       "2565094201             0.00             0.42            151.80   \n",
       "2518199610             0.00            -1.46             55.99   \n",
       "\n",
       "                Tasa de cierre  Tasa de «take profit»  Tasa de «stop loss»  \\\n",
       "ID de posición                                                               \n",
       "2518785220              136.40                1519.21               136.40   \n",
       "2516905847              136.40                1483.58               136.40   \n",
       "2567019125              136.39                 401.61               136.40   \n",
       "2565094201              158.15                   0.00               158.19   \n",
       "2518199610               47.80                 615.89                47.80   \n",
       "\n",
       "                Comisiones por renovación de posiciones y dividendos  \\\n",
       "ID de posición                                                         \n",
       "2518785220                                                   0.00      \n",
       "2516905847                                                   0.00      \n",
       "2567019125                                                  -0.13      \n",
       "2565094201                                                   0.00      \n",
       "2518199610                                                   0.05      \n",
       "\n",
       "               Copiado desde      Tipo          ISIN  Notas  \n",
       "ID de posición                                               \n",
       "2518785220                 -  Acciones  US02079K3059    NaN  \n",
       "2516905847                 -  Acciones  US02079K3059    NaN  \n",
       "2567019125                 -       CFD           NaN    NaN  \n",
       "2565094201                 -  Acciones  US4781601046    NaN  \n",
       "2518199610                 -  Acciones  US17275R1023    NaN  "
      ]
     },
     "execution_count": 53,
     "metadata": {},
     "output_type": "execute_result"
    }
   ],
   "source": [
    "cerradas.head()"
   ]
  },
  {
   "cell_type": "code",
   "execution_count": 54,
   "metadata": {},
   "outputs": [],
   "source": [
    "# Convertimos a fecha\n",
    "cerradas[\"Fecha de apertura\"] = pd.to_datetime(cerradas[\"Fecha de apertura\"], format='%d/%m/%Y %H:%M:%S')\n",
    "cerradas[\"Fecha de cierre\"] = pd.to_datetime(cerradas[\"Fecha de cierre\"], format='%d/%m/%Y %H:%M:%S')"
   ]
  },
  {
   "cell_type": "code",
   "execution_count": 55,
   "metadata": {},
   "outputs": [
    {
     "data": {
      "text/plain": [
       "Acción                                                          object\n",
       "Importe                                                        float64\n",
       "Unidades                                                       float64\n",
       "Fecha de apertura                                       datetime64[ns]\n",
       "Fecha de cierre                                         datetime64[ns]\n",
       "Apalancamiento                                                   int64\n",
       "Diferencial                                                    float64\n",
       "Ganancias (USD)                                                float64\n",
       "Tasa de apertura                                               float64\n",
       "Tasa de cierre                                                 float64\n",
       "Tasa de «take profit»                                          float64\n",
       "Tasa de «stop loss»                                            float64\n",
       "Comisiones por renovación de posiciones y dividendos           float64\n",
       "Copiado desde                                                   object\n",
       "Tipo                                                            object\n",
       "ISIN                                                            object\n",
       "Notas                                                          float64\n",
       "dtype: object"
      ]
     },
     "execution_count": 55,
     "metadata": {},
     "output_type": "execute_result"
    }
   ],
   "source": [
    "cerradas.dtypes"
   ]
  },
  {
   "cell_type": "code",
   "execution_count": 56,
   "metadata": {},
   "outputs": [],
   "source": [
    "a = cerradas[\"Fecha de cierre\"].dt.month"
   ]
  },
  {
   "cell_type": "code",
   "execution_count": 57,
   "metadata": {},
   "outputs": [],
   "source": [
    "# Agrupa por mes y sumamos la columna \"Ganancias (USD)\"\n",
    "cerradas = cerradas.groupby(cerradas[\"Fecha de cierre\"].dt.month)[\"Ganancias (USD)\"].sum()"
   ]
  },
  {
   "cell_type": "code",
   "execution_count": 58,
   "metadata": {},
   "outputs": [
    {
     "data": {
      "text/plain": [
       "58.250000000000014"
      ]
     },
     "execution_count": 58,
     "metadata": {},
     "output_type": "execute_result"
    }
   ],
   "source": [
    "cerradas.sum()"
   ]
  },
  {
   "cell_type": "code",
   "execution_count": 72,
   "metadata": {},
   "outputs": [],
   "source": [
    "class ParserEtoro():\n",
    "    path: str\n",
    "    data: pd.DataFrame\n",
    "\n",
    "    def __init__(self, path: str, hoja):\n",
    "        self.path = path\n",
    "        # Cargamos la hoja 2 del excel\n",
    "        self.data = pd.read_excel(path, sheet_name=hoja, index_col=0)\n",
    "        # Convertimos las fechas\n",
    "        self.__convertir_fechas()\n",
    "\n",
    "    # Hacemos un metodo privado para convertir las fechas.\n",
    "    def __convertir_fechas(self):\n",
    "        self.data[\"Fecha de apertura\"] = pd.to_datetime(self.data[\"Fecha de apertura\"], format='%d/%m/%Y %H:%M:%S')\n",
    "        self.data[\"Fecha de cierre\"] = pd.to_datetime(self.data[\"Fecha de cierre\"], format='%d/%m/%Y %H:%M:%S')"
   ]
  },
  {
   "cell_type": "code",
   "execution_count": 73,
   "metadata": {},
   "outputs": [],
   "source": [
    "fer = ParserEtoro(\"etoro/fer-etoro-account-statement-1-1-2018-12-7-2023.xlsx\", 1)"
   ]
  },
  {
   "cell_type": "code",
   "execution_count": 74,
   "metadata": {},
   "outputs": [],
   "source": [
    "def clean_etoro(df):\n",
    "    df[\"Fecha de apertura\"] = pd.to_datetime(df[\"Fecha de apertura\"], format='%d/%m/%Y %H:%M:%S')\n",
    "    df[\"Fecha de cierre\"] = pd.to_datetime(df[\"Fecha de cierre\"], format='%d/%m/%Y %H:%M:%S')\n",
    "    return df"
   ]
  },
  {
   "cell_type": "code",
   "execution_count": 75,
   "metadata": {},
   "outputs": [
    {
     "ename": "KeyError",
     "evalue": "'Fecha de cierre'",
     "output_type": "error",
     "traceback": [
      "\u001b[1;31m---------------------------------------------------------------------------\u001b[0m",
      "\u001b[1;31mKeyError\u001b[0m                                  Traceback (most recent call last)",
      "File \u001b[1;32mc:\\Users\\lufer\\AppData\\Local\\Programs\\Python\\Python310\\lib\\site-packages\\pandas\\core\\indexes\\base.py:3790\u001b[0m, in \u001b[0;36mIndex.get_loc\u001b[1;34m(self, key)\u001b[0m\n\u001b[0;32m   3789\u001b[0m \u001b[38;5;28;01mtry\u001b[39;00m:\n\u001b[1;32m-> 3790\u001b[0m     \u001b[38;5;28;01mreturn\u001b[39;00m \u001b[38;5;28;43mself\u001b[39;49m\u001b[38;5;241;43m.\u001b[39;49m\u001b[43m_engine\u001b[49m\u001b[38;5;241;43m.\u001b[39;49m\u001b[43mget_loc\u001b[49m\u001b[43m(\u001b[49m\u001b[43mcasted_key\u001b[49m\u001b[43m)\u001b[49m\n\u001b[0;32m   3791\u001b[0m \u001b[38;5;28;01mexcept\u001b[39;00m \u001b[38;5;167;01mKeyError\u001b[39;00m \u001b[38;5;28;01mas\u001b[39;00m err:\n",
      "File \u001b[1;32mindex.pyx:152\u001b[0m, in \u001b[0;36mpandas._libs.index.IndexEngine.get_loc\u001b[1;34m()\u001b[0m\n",
      "File \u001b[1;32mindex.pyx:160\u001b[0m, in \u001b[0;36mpandas._libs.index.IndexEngine.get_loc\u001b[1;34m()\u001b[0m\n",
      "File \u001b[1;32mpandas\\_libs\\index_class_helper.pxi:100\u001b[0m, in \u001b[0;36mpandas._libs.index.Int32Engine._check_type\u001b[1;34m()\u001b[0m\n",
      "\u001b[1;31mKeyError\u001b[0m: 'Fecha de cierre'",
      "\nThe above exception was the direct cause of the following exception:\n",
      "\u001b[1;31mKeyError\u001b[0m                                  Traceback (most recent call last)",
      "Cell \u001b[1;32mIn[75], line 8\u001b[0m\n\u001b[0;32m      1\u001b[0m \u001b[38;5;66;03m# Graficar la gananacia por mes del año 2023\u001b[39;00m\n\u001b[0;32m      2\u001b[0m \u001b[38;5;66;03m# 1. Filtrar por año\u001b[39;00m\n\u001b[0;32m      3\u001b[0m \u001b[38;5;66;03m# 2. Agrupar por mes\u001b[39;00m\n\u001b[1;32m   (...)\u001b[0m\n\u001b[0;32m      6\u001b[0m \n\u001b[0;32m      7\u001b[0m \u001b[38;5;66;03m# 1. Filtrar por año\u001b[39;00m\n\u001b[1;32m----> 8\u001b[0m cerradas_2023 \u001b[38;5;241m=\u001b[39m cerradas[\u001b[43mcerradas\u001b[49m\u001b[43m[\u001b[49m\u001b[38;5;124;43m\"\u001b[39;49m\u001b[38;5;124;43mFecha de cierre\u001b[39;49m\u001b[38;5;124;43m\"\u001b[39;49m\u001b[43m]\u001b[49m\u001b[38;5;241m.\u001b[39mdt\u001b[38;5;241m.\u001b[39myear \u001b[38;5;241m==\u001b[39m \u001b[38;5;241m2023\u001b[39m]\n\u001b[0;32m     10\u001b[0m \u001b[38;5;66;03m# 2. Agrupar por mes\u001b[39;00m\n\u001b[0;32m     11\u001b[0m cerradas_2023 \u001b[38;5;241m=\u001b[39m cerradas_2023\u001b[38;5;241m.\u001b[39mgroupby(cerradas_2023[\u001b[38;5;124m\"\u001b[39m\u001b[38;5;124mFecha de cierre\u001b[39m\u001b[38;5;124m\"\u001b[39m]\u001b[38;5;241m.\u001b[39mdt\u001b[38;5;241m.\u001b[39mmonth)[\u001b[38;5;124m\"\u001b[39m\u001b[38;5;124mGanancias (USD)\u001b[39m\u001b[38;5;124m\"\u001b[39m]\u001b[38;5;241m.\u001b[39msum()\n",
      "File \u001b[1;32mc:\\Users\\lufer\\AppData\\Local\\Programs\\Python\\Python310\\lib\\site-packages\\pandas\\core\\series.py:1040\u001b[0m, in \u001b[0;36mSeries.__getitem__\u001b[1;34m(self, key)\u001b[0m\n\u001b[0;32m   1037\u001b[0m     \u001b[38;5;28;01mreturn\u001b[39;00m \u001b[38;5;28mself\u001b[39m\u001b[38;5;241m.\u001b[39m_values[key]\n\u001b[0;32m   1039\u001b[0m \u001b[38;5;28;01melif\u001b[39;00m key_is_scalar:\n\u001b[1;32m-> 1040\u001b[0m     \u001b[38;5;28;01mreturn\u001b[39;00m \u001b[38;5;28;43mself\u001b[39;49m\u001b[38;5;241;43m.\u001b[39;49m\u001b[43m_get_value\u001b[49m\u001b[43m(\u001b[49m\u001b[43mkey\u001b[49m\u001b[43m)\u001b[49m\n\u001b[0;32m   1042\u001b[0m \u001b[38;5;66;03m# Convert generator to list before going through hashable part\u001b[39;00m\n\u001b[0;32m   1043\u001b[0m \u001b[38;5;66;03m# (We will iterate through the generator there to check for slices)\u001b[39;00m\n\u001b[0;32m   1044\u001b[0m \u001b[38;5;28;01mif\u001b[39;00m is_iterator(key):\n",
      "File \u001b[1;32mc:\\Users\\lufer\\AppData\\Local\\Programs\\Python\\Python310\\lib\\site-packages\\pandas\\core\\series.py:1156\u001b[0m, in \u001b[0;36mSeries._get_value\u001b[1;34m(self, label, takeable)\u001b[0m\n\u001b[0;32m   1153\u001b[0m     \u001b[38;5;28;01mreturn\u001b[39;00m \u001b[38;5;28mself\u001b[39m\u001b[38;5;241m.\u001b[39m_values[label]\n\u001b[0;32m   1155\u001b[0m \u001b[38;5;66;03m# Similar to Index.get_value, but we do not fall back to positional\u001b[39;00m\n\u001b[1;32m-> 1156\u001b[0m loc \u001b[38;5;241m=\u001b[39m \u001b[38;5;28;43mself\u001b[39;49m\u001b[38;5;241;43m.\u001b[39;49m\u001b[43mindex\u001b[49m\u001b[38;5;241;43m.\u001b[39;49m\u001b[43mget_loc\u001b[49m\u001b[43m(\u001b[49m\u001b[43mlabel\u001b[49m\u001b[43m)\u001b[49m\n\u001b[0;32m   1158\u001b[0m \u001b[38;5;28;01mif\u001b[39;00m is_integer(loc):\n\u001b[0;32m   1159\u001b[0m     \u001b[38;5;28;01mreturn\u001b[39;00m \u001b[38;5;28mself\u001b[39m\u001b[38;5;241m.\u001b[39m_values[loc]\n",
      "File \u001b[1;32mc:\\Users\\lufer\\AppData\\Local\\Programs\\Python\\Python310\\lib\\site-packages\\pandas\\core\\indexes\\base.py:3797\u001b[0m, in \u001b[0;36mIndex.get_loc\u001b[1;34m(self, key)\u001b[0m\n\u001b[0;32m   3792\u001b[0m     \u001b[38;5;28;01mif\u001b[39;00m \u001b[38;5;28misinstance\u001b[39m(casted_key, \u001b[38;5;28mslice\u001b[39m) \u001b[38;5;129;01mor\u001b[39;00m (\n\u001b[0;32m   3793\u001b[0m         \u001b[38;5;28misinstance\u001b[39m(casted_key, abc\u001b[38;5;241m.\u001b[39mIterable)\n\u001b[0;32m   3794\u001b[0m         \u001b[38;5;129;01mand\u001b[39;00m \u001b[38;5;28many\u001b[39m(\u001b[38;5;28misinstance\u001b[39m(x, \u001b[38;5;28mslice\u001b[39m) \u001b[38;5;28;01mfor\u001b[39;00m x \u001b[38;5;129;01min\u001b[39;00m casted_key)\n\u001b[0;32m   3795\u001b[0m     ):\n\u001b[0;32m   3796\u001b[0m         \u001b[38;5;28;01mraise\u001b[39;00m InvalidIndexError(key)\n\u001b[1;32m-> 3797\u001b[0m     \u001b[38;5;28;01mraise\u001b[39;00m \u001b[38;5;167;01mKeyError\u001b[39;00m(key) \u001b[38;5;28;01mfrom\u001b[39;00m \u001b[38;5;21;01merr\u001b[39;00m\n\u001b[0;32m   3798\u001b[0m \u001b[38;5;28;01mexcept\u001b[39;00m \u001b[38;5;167;01mTypeError\u001b[39;00m:\n\u001b[0;32m   3799\u001b[0m     \u001b[38;5;66;03m# If we have a listlike key, _check_indexing_error will raise\u001b[39;00m\n\u001b[0;32m   3800\u001b[0m     \u001b[38;5;66;03m#  InvalidIndexError. Otherwise we fall through and re-raise\u001b[39;00m\n\u001b[0;32m   3801\u001b[0m     \u001b[38;5;66;03m#  the TypeError.\u001b[39;00m\n\u001b[0;32m   3802\u001b[0m     \u001b[38;5;28mself\u001b[39m\u001b[38;5;241m.\u001b[39m_check_indexing_error(key)\n",
      "\u001b[1;31mKeyError\u001b[0m: 'Fecha de cierre'"
     ]
    }
   ],
   "source": [
    "# Graficar la gananacia por mes del año 2023\n",
    "# 1. Filtrar por año\n",
    "# 2. Agrupar por mes\n",
    "# 3. Sumar la columna \"Ganancias (USD)\"\n",
    "# 4. Graficar\n",
    "\n",
    "# 1. Filtrar por año\n",
    "cerradas_2023 = cerradas[cerradas[\"Fecha de cierre\"].dt.year == 2023]\n",
    "\n",
    "# 2. Agrupar por mes\n",
    "cerradas_2023 = cerradas_2023.groupby(cerradas_2023[\"Fecha de cierre\"].dt.month)[\"Ganancias (USD)\"].sum()\n",
    "\n",
    "cerradas_2023.plot(kind=\"bar\")\n",
    "\n"
   ]
  },
  {
   "cell_type": "code",
   "execution_count": null,
   "metadata": {},
   "outputs": [],
   "source": [
    "# Graficamos usando Plotly\n",
    "#trace = go.Bar(x=cerradas_2023.index, y=cerradas_2023.values, marker=dict(color='#FF851B'))\n",
    "#layout = go.Layout(title='Total Position PnL by month in 2023', xaxis=dict(title='Month'), yaxis=dict(title='PnL'))\n",
    "# Agregamos los meses como ticks en el eje x\n",
    "#layout.xaxis.update({'tickvals': cerradas_2023.index})\n",
    "# Le ponemos nombre a los ticks\n",
    "#layout.xaxis.update({'ticktext': ['January', 'February', 'March', 'April', 'May', 'June', 'July', 'August', 'September',\n",
    "#                                  'October', 'November', 'December']})\n",
    "#fig = go.Figure(data=[trace], layout=layout)\n",
    "#iplot(fig)\n"
   ]
  },
  {
   "cell_type": "code",
   "execution_count": 3,
   "metadata": {},
   "outputs": [
    {
     "name": "stdout",
     "output_type": "stream",
     "text": [
      "DataFrame original:\n",
      "  Group  Value\n",
      "0     A      1\n",
      "1     B      2\n",
      "2     A      3\n",
      "3     B      4\n",
      "4     A      5\n"
     ]
    }
   ],
   "source": [
    "import pandas as pd\n",
    "\n",
    "# Crear un DataFrame de ejemplo\n",
    "df = pd.DataFrame({\n",
    "    'Group': ['A', 'B', 'A', 'B', 'A'],\n",
    "    'Value': [1, 2, 3, 4, 5]\n",
    "})\n",
    "\n",
    "print(\"DataFrame original:\")\n",
    "print(df)\n",
    "\n",
    "# Agrupar por 'Group'\n",
    "groups = df.groupby('Group')\n",
    "\n",
    "# Realizar una operación en el objeto GroupBy\n",
    "mean_df = groups.mean()\n"
   ]
  },
  {
   "cell_type": "code",
   "execution_count": 4,
   "metadata": {},
   "outputs": [
    {
     "data": {
      "text/html": [
       "<div>\n",
       "<style scoped>\n",
       "    .dataframe tbody tr th:only-of-type {\n",
       "        vertical-align: middle;\n",
       "    }\n",
       "\n",
       "    .dataframe tbody tr th {\n",
       "        vertical-align: top;\n",
       "    }\n",
       "\n",
       "    .dataframe thead th {\n",
       "        text-align: right;\n",
       "    }\n",
       "</style>\n",
       "<table border=\"1\" class=\"dataframe\">\n",
       "  <thead>\n",
       "    <tr style=\"text-align: right;\">\n",
       "      <th></th>\n",
       "      <th>Value</th>\n",
       "    </tr>\n",
       "    <tr>\n",
       "      <th>Group</th>\n",
       "      <th></th>\n",
       "    </tr>\n",
       "  </thead>\n",
       "  <tbody>\n",
       "    <tr>\n",
       "      <th>A</th>\n",
       "      <td>3.0</td>\n",
       "    </tr>\n",
       "    <tr>\n",
       "      <th>B</th>\n",
       "      <td>3.0</td>\n",
       "    </tr>\n",
       "  </tbody>\n",
       "</table>\n",
       "</div>"
      ],
      "text/plain": [
       "       Value\n",
       "Group       \n",
       "A        3.0\n",
       "B        3.0"
      ]
     },
     "execution_count": 4,
     "metadata": {},
     "output_type": "execute_result"
    }
   ],
   "source": [
    "mean_df"
   ]
  },
  {
   "cell_type": "code",
   "execution_count": null,
   "metadata": {},
   "outputs": [],
   "source": []
  }
 ],
 "metadata": {
  "kernelspec": {
   "display_name": "Python 3",
   "language": "python",
   "name": "python3"
  },
  "language_info": {
   "codemirror_mode": {
    "name": "ipython",
    "version": 3
   },
   "file_extension": ".py",
   "mimetype": "text/x-python",
   "name": "python",
   "nbconvert_exporter": "python",
   "pygments_lexer": "ipython3",
   "version": "3.10.11"
  }
 },
 "nbformat": 4,
 "nbformat_minor": 2
}
