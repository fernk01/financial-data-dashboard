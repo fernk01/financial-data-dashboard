{
 "cells": [
  {
   "cell_type": "code",
   "execution_count": 2,
   "metadata": {
    "ExecuteTime": {
     "end_time": "2023-12-06T17:33:32.374391700Z",
     "start_time": "2023-12-06T17:33:32.049363200Z"
    }
   },
   "outputs": [],
   "source": [
    "import pandas as pd"
   ]
  },
  {
   "cell_type": "code",
   "execution_count": 3,
   "metadata": {
    "ExecuteTime": {
     "end_time": "2023-12-06T17:33:32.842760900Z",
     "start_time": "2023-12-06T17:33:32.373388900Z"
    }
   },
   "outputs": [
    {
     "name": "stderr",
     "output_type": "stream",
     "text": [
      "c:\\Users\\lufer\\AppData\\Local\\Programs\\Python\\Python310\\lib\\site-packages\\openpyxl\\styles\\stylesheet.py:226: UserWarning: Workbook contains no default style, apply openpyxl's default\n",
      "  warn(\"Workbook contains no default style, apply openpyxl's default\")\n"
     ]
    }
   ],
   "source": [
    "df = pd.read_excel('fer.xls', index_col=0)  "
   ]
  },
  {
   "cell_type": "code",
   "execution_count": 4,
   "metadata": {
    "ExecuteTime": {
     "end_time": "2023-12-06T17:33:32.857774700Z",
     "start_time": "2023-12-06T17:33:32.842760900Z"
    }
   },
   "outputs": [
    {
     "data": {
      "text/plain": [
       "Action                object\n",
       "Quantity              object\n",
       "Price                 object\n",
       "Value                 object\n",
       "Date                  object\n",
       "Total Position PnL    object\n",
       "dtype: object"
      ]
     },
     "execution_count": 4,
     "metadata": {},
     "output_type": "execute_result"
    }
   ],
   "source": [
    "# analizamos el tipo de datos de cada columna\n",
    "df.dtypes"
   ]
  },
  {
   "cell_type": "code",
   "execution_count": 5,
   "metadata": {
    "ExecuteTime": {
     "end_time": "2023-12-06T17:33:33.014681800Z",
     "start_time": "2023-12-06T17:33:32.857774700Z"
    }
   },
   "outputs": [
    {
     "name": "stderr",
     "output_type": "stream",
     "text": [
      "C:\\Users\\lufer\\AppData\\Local\\Temp\\ipykernel_8656\\1089467488.py:2: UserWarning: Could not infer format, so each element will be parsed individually, falling back to `dateutil`. To ensure parsing is consistent and as-expected, please specify a format.\n",
      "  df['Date'] = pd.to_datetime(df['Date'])\n"
     ]
    }
   ],
   "source": [
    "# convertimos Date a datetime\n",
    "df['Date'] = pd.to_datetime(df['Date'])"
   ]
  },
  {
   "cell_type": "code",
   "execution_count": 6,
   "metadata": {
    "ExecuteTime": {
     "end_time": "2023-12-06T17:33:33.059796100Z",
     "start_time": "2023-12-06T17:33:33.016683500Z"
    }
   },
   "outputs": [
    {
     "data": {
      "text/html": [
       "<div>\n",
       "<style scoped>\n",
       "    .dataframe tbody tr th:only-of-type {\n",
       "        vertical-align: middle;\n",
       "    }\n",
       "\n",
       "    .dataframe tbody tr th {\n",
       "        vertical-align: top;\n",
       "    }\n",
       "\n",
       "    .dataframe thead th {\n",
       "        text-align: right;\n",
       "    }\n",
       "</style>\n",
       "<table border=\"1\" class=\"dataframe\">\n",
       "  <thead>\n",
       "    <tr style=\"text-align: right;\">\n",
       "      <th></th>\n",
       "      <th>Action</th>\n",
       "      <th>Quantity</th>\n",
       "      <th>Price</th>\n",
       "      <th>Value</th>\n",
       "      <th>Date</th>\n",
       "      <th>Total Position PnL</th>\n",
       "    </tr>\n",
       "    <tr>\n",
       "      <th>Name</th>\n",
       "      <th></th>\n",
       "      <th></th>\n",
       "      <th></th>\n",
       "      <th></th>\n",
       "      <th></th>\n",
       "      <th></th>\n",
       "    </tr>\n",
       "  </thead>\n",
       "  <tbody>\n",
       "    <tr>\n",
       "      <th>BTC/USDT</th>\n",
       "      <td>Bought</td>\n",
       "      <td>0.00026587 BTC</td>\n",
       "      <td>₮37,612.9100</td>\n",
       "      <td>₮10.00</td>\n",
       "      <td>2023-11-24 18:45:00+00:00</td>\n",
       "      <td>NaN</td>\n",
       "    </tr>\n",
       "    <tr>\n",
       "      <th>BTC/USDT</th>\n",
       "      <td>Bought</td>\n",
       "      <td>0.00026569 BTC</td>\n",
       "      <td>₮37,637.8700</td>\n",
       "      <td>₮10.00</td>\n",
       "      <td>2023-11-26 12:17:00+00:00</td>\n",
       "      <td>NaN</td>\n",
       "    </tr>\n",
       "    <tr>\n",
       "      <th>BTC/USDT</th>\n",
       "      <td>Bought</td>\n",
       "      <td>0.00026966 BTC</td>\n",
       "      <td>₮37,084.2700</td>\n",
       "      <td>₮10.00</td>\n",
       "      <td>2023-11-27 11:30:00+00:00</td>\n",
       "      <td>NaN</td>\n",
       "    </tr>\n",
       "    <tr>\n",
       "      <th>BTC/USDT</th>\n",
       "      <td>Bought</td>\n",
       "      <td>0.00077740 BTC</td>\n",
       "      <td>₮38,590.1800</td>\n",
       "      <td>₮30.00</td>\n",
       "      <td>2023-01-12 11:45:00+00:00</td>\n",
       "      <td>NaN</td>\n",
       "    </tr>\n",
       "    <tr>\n",
       "      <th>BTC/USDT</th>\n",
       "      <td>Sold</td>\n",
       "      <td>0.00157861 BTC</td>\n",
       "      <td>₮43,800.0000</td>\n",
       "      <td>₮60.00</td>\n",
       "      <td>2023-06-12 01:47:00+00:00</td>\n",
       "      <td>₮9.14</td>\n",
       "    </tr>\n",
       "  </tbody>\n",
       "</table>\n",
       "</div>"
      ],
      "text/plain": [
       "          Action        Quantity         Price   Value  \\\n",
       "Name                                                     \n",
       "BTC/USDT  Bought  0.00026587 BTC  ₮37,612.9100  ₮10.00   \n",
       "BTC/USDT  Bought  0.00026569 BTC  ₮37,637.8700  ₮10.00   \n",
       "BTC/USDT  Bought  0.00026966 BTC  ₮37,084.2700  ₮10.00   \n",
       "BTC/USDT  Bought  0.00077740 BTC  ₮38,590.1800  ₮30.00   \n",
       "BTC/USDT    Sold  0.00157861 BTC  ₮43,800.0000  ₮60.00   \n",
       "\n",
       "                              Date Total Position PnL  \n",
       "Name                                                   \n",
       "BTC/USDT 2023-11-24 18:45:00+00:00                NaN  \n",
       "BTC/USDT 2023-11-26 12:17:00+00:00                NaN  \n",
       "BTC/USDT 2023-11-27 11:30:00+00:00                NaN  \n",
       "BTC/USDT 2023-01-12 11:45:00+00:00                NaN  \n",
       "BTC/USDT 2023-06-12 01:47:00+00:00              ₮9.14  "
      ]
     },
     "execution_count": 6,
     "metadata": {},
     "output_type": "execute_result"
    }
   ],
   "source": [
    "df.head()"
   ]
  },
  {
   "cell_type": "code",
   "execution_count": 7,
   "metadata": {
    "ExecuteTime": {
     "end_time": "2023-12-06T17:33:33.106692500Z",
     "start_time": "2023-12-06T17:33:33.031711300Z"
    }
   },
   "outputs": [],
   "source": [
    "# eliminamos todas las filas con mas de 3 valores nulos\n",
    "df.dropna(thresh=3, inplace=True)"
   ]
  },
  {
   "cell_type": "code",
   "execution_count": 8,
   "metadata": {
    "ExecuteTime": {
     "end_time": "2023-12-06T17:33:33.127376700Z",
     "start_time": "2023-12-06T17:33:33.047222800Z"
    }
   },
   "outputs": [],
   "source": [
    "lista_simbolos = ['₮', '$', '€', ',']\n",
    "function = lambda x: x.str.replace('₮', '').str.replace('$', '').str.replace('€', '').str.replace(',', '')\n"
   ]
  },
  {
   "cell_type": "code",
   "execution_count": 9,
   "metadata": {
    "ExecuteTime": {
     "end_time": "2023-12-06T17:33:33.141775900Z",
     "start_time": "2023-12-06T17:33:33.062796Z"
    }
   },
   "outputs": [],
   "source": [
    "df['Value'] = df[['Value']].apply(function)\n",
    "# convertimos Value a float\n",
    "df['Value'] = df['Value'].astype(float)"
   ]
  },
  {
   "cell_type": "code",
   "execution_count": 10,
   "metadata": {
    "ExecuteTime": {
     "end_time": "2023-12-06T17:33:33.193373400Z",
     "start_time": "2023-12-06T17:33:33.077819Z"
    }
   },
   "outputs": [],
   "source": [
    "df['Price'] = df[['Price']].apply(function)"
   ]
  },
  {
   "cell_type": "code",
   "execution_count": 11,
   "metadata": {
    "ExecuteTime": {
     "end_time": "2023-12-06T17:33:33.193373400Z",
     "start_time": "2023-12-06T17:33:33.094358300Z"
    }
   },
   "outputs": [],
   "source": [
    "df['Total Position PnL'] = df[['Total Position PnL']].apply(function)\n",
    "df['Total Position PnL'] = df['Total Position PnL'].astype(float)"
   ]
  },
  {
   "cell_type": "code",
   "execution_count": 12,
   "metadata": {
    "ExecuteTime": {
     "end_time": "2023-12-06T17:33:33.194372200Z",
     "start_time": "2023-12-06T17:33:33.109866Z"
    }
   },
   "outputs": [],
   "source": [
    "# eliminamos las filas con valores nulos\n",
    "df.dropna(inplace=True)"
   ]
  },
  {
   "cell_type": "code",
   "execution_count": 13,
   "metadata": {
    "ExecuteTime": {
     "end_time": "2023-12-06T17:33:33.194372200Z",
     "start_time": "2023-12-06T17:33:33.125379100Z"
    }
   },
   "outputs": [
    {
     "data": {
      "text/html": [
       "<div>\n",
       "<style scoped>\n",
       "    .dataframe tbody tr th:only-of-type {\n",
       "        vertical-align: middle;\n",
       "    }\n",
       "\n",
       "    .dataframe tbody tr th {\n",
       "        vertical-align: top;\n",
       "    }\n",
       "\n",
       "    .dataframe thead th {\n",
       "        text-align: right;\n",
       "    }\n",
       "</style>\n",
       "<table border=\"1\" class=\"dataframe\">\n",
       "  <thead>\n",
       "    <tr style=\"text-align: right;\">\n",
       "      <th></th>\n",
       "      <th>Total Position PnL</th>\n",
       "    </tr>\n",
       "    <tr>\n",
       "      <th>Date</th>\n",
       "      <th></th>\n",
       "    </tr>\n",
       "  </thead>\n",
       "  <tbody>\n",
       "    <tr>\n",
       "      <th>January</th>\n",
       "      <td>47.93</td>\n",
       "    </tr>\n",
       "    <tr>\n",
       "      <th>February</th>\n",
       "      <td>85.09</td>\n",
       "    </tr>\n",
       "    <tr>\n",
       "      <th>March</th>\n",
       "      <td>19.05</td>\n",
       "    </tr>\n",
       "    <tr>\n",
       "      <th>April</th>\n",
       "      <td>-7.15</td>\n",
       "    </tr>\n",
       "    <tr>\n",
       "      <th>May</th>\n",
       "      <td>12.68</td>\n",
       "    </tr>\n",
       "    <tr>\n",
       "      <th>June</th>\n",
       "      <td>26.73</td>\n",
       "    </tr>\n",
       "    <tr>\n",
       "      <th>July</th>\n",
       "      <td>48.23</td>\n",
       "    </tr>\n",
       "    <tr>\n",
       "      <th>August</th>\n",
       "      <td>-14.10</td>\n",
       "    </tr>\n",
       "    <tr>\n",
       "      <th>September</th>\n",
       "      <td>-16.89</td>\n",
       "    </tr>\n",
       "    <tr>\n",
       "      <th>October</th>\n",
       "      <td>19.64</td>\n",
       "    </tr>\n",
       "    <tr>\n",
       "      <th>November</th>\n",
       "      <td>195.83</td>\n",
       "    </tr>\n",
       "    <tr>\n",
       "      <th>December</th>\n",
       "      <td>0.17</td>\n",
       "    </tr>\n",
       "  </tbody>\n",
       "</table>\n",
       "</div>"
      ],
      "text/plain": [
       "           Total Position PnL\n",
       "Date                         \n",
       "January                 47.93\n",
       "February                85.09\n",
       "March                   19.05\n",
       "April                   -7.15\n",
       "May                     12.68\n",
       "June                    26.73\n",
       "July                    48.23\n",
       "August                 -14.10\n",
       "September              -16.89\n",
       "October                 19.64\n",
       "November               195.83\n",
       "December                 0.17"
      ]
     },
     "execution_count": 13,
     "metadata": {},
     "output_type": "execute_result"
    }
   ],
   "source": [
    "# Filtamos por el año 2023\n",
    "df = df[df['Date'].dt.year == 2023]\n",
    "\n",
    "# agrupamos por mes y sumamos la columna \"Total Position PnL\"\n",
    "a = df.groupby(df['Date'].dt.strftime('%B'))['Total Position PnL'].sum()\n",
    "\n",
    "# ordenamos los meses\n",
    "a = a.reindex(['January', 'February', 'March', 'April', 'May', 'June', 'July', 'August', 'September', 'October',\n",
    "               'November', 'December'])\n",
    "\n",
    "# convertimos a dataframe\n",
    "a = a.to_frame()\n",
    "a\n"
   ]
  },
  {
   "cell_type": "code",
   "execution_count": 12,
   "metadata": {
    "ExecuteTime": {
     "end_time": "2023-12-06T17:33:33.195375400Z",
     "start_time": "2023-12-06T17:33:33.139777600Z"
    }
   },
   "outputs": [],
   "source": []
  }
 ],
 "metadata": {
  "kernelspec": {
   "display_name": "Python 3",
   "language": "python",
   "name": "python3"
  },
  "language_info": {
   "codemirror_mode": {
    "name": "ipython",
    "version": 3
   },
   "file_extension": ".py",
   "mimetype": "text/x-python",
   "name": "python",
   "nbconvert_exporter": "python",
   "pygments_lexer": "ipython3",
   "version": "3.10.11"
  }
 },
 "nbformat": 4,
 "nbformat_minor": 2
}
